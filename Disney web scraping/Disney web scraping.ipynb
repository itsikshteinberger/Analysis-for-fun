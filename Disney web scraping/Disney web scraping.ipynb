{
 "cells": [
  {
   "cell_type": "markdown",
   "id": "present-texture",
   "metadata": {},
   "source": [
    "# Web scraping - Disney movies\n",
    "__In the next project we will cut out our data about Disney movies from this [Wikipedia page](https://en.wikipedia.org/wiki/List_of_Walt_Disney_Pictures_films).__<br/><br/>\n",
    "In order to complete the task we must do four tasks:\n",
    "- [X] Extract information about each movie. \n",
    "- [X] Extract information about all movies together. \n",
    "- [X] Clean the data. \n",
    "- [X] Keep the data organized in json csv and files. \n",
    "\n",
    "<br/>Of course we will start with the important imports:"
   ]
  },
  {
   "cell_type": "code",
   "execution_count": 1,
   "id": "premier-start",
   "metadata": {},
   "outputs": [],
   "source": [
    "import requests\n",
    "import json \n",
    "from bs4 import BeautifulSoup as bs\n",
    "import os\n",
    "from tqdm import tqdm\n",
    "import pandas as pd"
   ]
  },
  {
   "cell_type": "markdown",
   "id": "seventh-pattern",
   "metadata": {},
   "source": [
    "Now we are ready to start!"
   ]
  },
  {
   "cell_type": "markdown",
   "id": "instrumental-clearance",
   "metadata": {},
   "source": [
    "### Task one: Extract information about each movie.\n",
    "In this section we will implement a function for extracting information for a movie using its URL, the function will return a dictionary with all the existing movie properties."
   ]
  },
  {
   "cell_type": "code",
   "execution_count": 2,
   "id": "configured-check",
   "metadata": {},
   "outputs": [],
   "source": [
    "def get_info(url): \n",
    "    \n",
    "    #First thing: you need to read the HTML code of the URL.\n",
    "    ret_json = {}\n",
    "    req = requests.get(url)\n",
    "    soup = (req.content)\n",
    "    soup = bs(req.text, \"html.parser\")\n",
    "    info_box = soup.find(\"table\", class_=\"infobox vevent\")\n",
    "    \n",
    "    #Get the title\n",
    "    ret_json['Title'] = info_box.find(\"th\").text\n",
    "    \n",
    "    #Iterate over the info box\n",
    "    for line in info_box.find_all(\"tr\")[2:]:\n",
    "        if line.find(\"td\") and line.find(\"th\"):          \n",
    "            info_array = []\n",
    "            \n",
    "            for info in line.find_all(\"td\"):\n",
    "                for tag in str(info).split('<br/>'): #Dealing with line breaks and li items ((Separating them into separate objects)\n",
    "                    tag = bs(tag, 'html.parser')\n",
    "                    if tag.find('li'):\n",
    "                        for li in tag.find_all('li'):\n",
    "                                info_array.append(li.text)\n",
    "                    else:\n",
    "                        info_array.append(tag.text)\n",
    "            \n",
    "            #If one of the values of the 'removes' array in our array - it must be removed\n",
    "            removes = ['US','\\n'] + ['['+str(i)+']' for i in range(1,8)] \n",
    "            \n",
    "            for remove in removes:\n",
    "                info_array = list(map(lambda x: x.replace(remove,''),info_array))\n",
    "            \n",
    "            #We also need to remove the '\\xa0' string as well\n",
    "            info_array = list(map(lambda x: x.replace('\\xa0',' '),info_array))\n",
    "            \n",
    "            #'Budget' & 'Box office' should not contain strings without a sign of money or the words 'million' and 'billion'\n",
    "            if line.find(\"th\").text in ['Budget','Box office']:\n",
    "                info_array = list(filter(lambda x: '¥' in x or '₹' in x or '$' in x or 'million' in x or 'billion' in x ,info_array))\n",
    "            \n",
    "            #'Running time' should not contain strings without the 'min' string\n",
    "            if line.find(\"th\").text == 'Running time':\n",
    "                info_array = list(filter(lambda x: 'min' in x.lower() ,info_array))\n",
    "                \n",
    "            #After a quick look at the data, I realized that all I needed was the first object in the array in 'Budget','Box office' & 'Based on' \n",
    "            if line.find(\"th\").text in ['Budget','Box office','Based on']:\n",
    "                info_array = info_array[0:1]\n",
    "            \n",
    "            ret_json[line.find(\"th\").text] = info_array\n",
    "             \n",
    "    return ret_json"
   ]
  },
  {
   "cell_type": "code",
   "execution_count": 3,
   "id": "worse-nation",
   "metadata": {},
   "outputs": [],
   "source": [
    "#The purpose of this function is to print the dictionary more beautifully.\n",
    "\n",
    "def pretty(d, indent=0):\n",
    "    for key, value in d.items():\n",
    "        print( str(key) + ':')\n",
    "        if isinstance(value, dict):\n",
    "            pretty(value, indent+1)\n",
    "        else:\n",
    "            print('\\t' * (indent+1) + str(value))"
   ]
  },
  {
   "cell_type": "code",
   "execution_count": 4,
   "id": "clean-department",
   "metadata": {
    "scrolled": true
   },
   "outputs": [
    {
     "name": "stdout",
     "output_type": "stream",
     "text": [
      "Title:\n",
      "\tSomething Wicked This Way Comes\n",
      "Directed by:\n",
      "\t['Jack Clayton']\n",
      "Written by:\n",
      "\t['Ray Bradbury']\n",
      "Based on:\n",
      "\t['Something Wicked This Way Comes']\n",
      "Produced by:\n",
      "\t['Peter Douglas']\n",
      "Starring:\n",
      "\t['Jason Robards', 'Jonathan Pryce', 'Diane Ladd', 'Pam Grier']\n",
      "Cinematography:\n",
      "\t['Stephen H. Burum']\n",
      "Edited by:\n",
      "\t['Barry Mark Gordon', 'Art J. Nelson']\n",
      "Music by:\n",
      "\t['James Horner']\n",
      "Productioncompanies :\n",
      "\t['Walt Disney Productions', 'The Bryna Company']\n",
      "Distributed by:\n",
      "\t['Buena Vista Distribution']\n",
      "Release date:\n",
      "\t['April 29, 1983 (1983-04-29) (United States)']\n",
      "Running time:\n",
      "\t['95 minutes']\n",
      "Country:\n",
      "\t['United States']\n",
      "Language:\n",
      "\t['English']\n",
      "Budget:\n",
      "\t['$20 million']\n",
      "Box office:\n",
      "\t['$8.4 million']\n"
     ]
    }
   ],
   "source": [
    "#We will just check on a random URL that the function does work.\n",
    "\n",
    "url = \"https://en.wikipedia.org/wiki/Something_Wicked_This_Way_Comes_(film)\"\n",
    "pretty(get_info(url)) "
   ]
  },
  {
   "cell_type": "markdown",
   "id": "modified-departure",
   "metadata": {},
   "source": [
    "Nice! The first task completed ✅\n",
    "\n",
    "### Task two: Extract information about all movies together.\n",
    "In this section we will extract all the links to Disney movies from [this page](https://en.wikipedia.org/wiki/List_of_Walt_Disney_Pictures_films) and activate on them the function we implemented earlier."
   ]
  },
  {
   "cell_type": "code",
   "execution_count": 5,
   "id": "coordinated-sterling",
   "metadata": {},
   "outputs": [],
   "source": [
    "#First we approach the html code of the page\n",
    "\n",
    "main_web_path = \"https://en.wikipedia.org/wiki/List_of_Walt_Disney_Pictures_films\"\n",
    "req = requests.get(main_web_path)\n",
    "soup = (req.content)\n",
    "soup = bs(req.text, \"html.parser\")\n",
    "path = \"https://en.wikipedia.org\""
   ]
  },
  {
   "cell_type": "code",
   "execution_count": 6,
   "id": "restricted-designer",
   "metadata": {},
   "outputs": [
    {
     "name": "stderr",
     "output_type": "stream",
     "text": [
      "100%|██████████████████████████████████████████████████████████████████████████████████| 10/10 [04:05<00:00, 24.55s/it]\n"
     ]
    }
   ],
   "source": [
    "#Put all the movies tabels in one array:\n",
    "\n",
    "tabels = soup.find_all(\"table\")[1:11]\n",
    "info_dict = []\n",
    "\n",
    "#Iterate over the tabels and extracting their URL & names\n",
    "\n",
    "for table in tqdm(tabels):\n",
    "    info_lines = table.find_all(\"tr\")[1:]\n",
    "    for info_line in info_lines:\n",
    "        #In this section I differentiate between movie names with a link and movie names without a link\n",
    "        #If the movie name is without a link it should be stored as a 'Title' and that's it\n",
    "        if info_line.find_all(\"td\")[1].find(\"a\"):\n",
    "            link = path + info_line.find_all(\"td\")[1].find(\"a\")['href'] \n",
    "            info_dict.append(get_info(link))\n",
    "        else:\n",
    "            title = info_line.find_all(\"td\")[1].text\n",
    "            info_dict.append({'Title': title})   "
   ]
  },
  {
   "cell_type": "code",
   "execution_count": 7,
   "id": "egyptian-potato",
   "metadata": {},
   "outputs": [
    {
     "name": "stdout",
     "output_type": "stream",
     "text": [
      "Title:\n",
      "\tAcademy Award Review of Walt Disney Cartoons\n",
      "Productioncompany :\n",
      "\t['Walt Disney Productions']\n",
      "Release date:\n",
      "\t['May 19, 1937 (1937-05-19)']\n",
      "Running time:\n",
      "\t['41 minutes (74 minutes 1966 release)']\n",
      "Country:\n",
      "\t['United States']\n",
      "Language:\n",
      "\t['English']\n",
      "Box office:\n",
      "\t['$45.472']\n"
     ]
    }
   ],
   "source": [
    "#We will just check on a random URL that the function does work.\n",
    "\n",
    "pretty(info_dict[0])"
   ]
  },
  {
   "cell_type": "markdown",
   "id": "constitutional-cosmetic",
   "metadata": {},
   "source": [
    "Well done! We finished task number two ✅"
   ]
  },
  {
   "cell_type": "code",
   "execution_count": 8,
   "id": "humanitarian-weather",
   "metadata": {},
   "outputs": [],
   "source": [
    "#Implementing two functions for saving data in a JSON file and loading data from a JSON file.\n",
    "\n",
    "def save_data(title, data):\n",
    "    with open(title, 'w', encoding='utf-8') as f:\n",
    "        json.dump(data, f, ensure_ascii=False, indent=2)\n",
    "        \n",
    "def load_data(title):\n",
    "    with open(title, encoding=\"utf-8\") as f:\n",
    "        return json.load(f)"
   ]
  },
  {
   "cell_type": "code",
   "execution_count": 9,
   "id": "rubber-harvard",
   "metadata": {},
   "outputs": [],
   "source": [
    "#Saving the unclean data (for now) in the JSON file.\n",
    "\n",
    "save_data('disney_data.json',info_dict)"
   ]
  },
  {
   "cell_type": "markdown",
   "id": "digital-novel",
   "metadata": {},
   "source": [
    "### Task three: clean the data!\n",
    "<font size=\"1.5\"> \"Better without data than unclean data.\" <br/>(Ancient Chinese proverb)</font> \n",
    "<br/><br/>In this section we will make slight improvements to the data.\n",
    "\n",
    "\n"
   ]
  },
  {
   "cell_type": "code",
   "execution_count": 10,
   "id": "threatened-census",
   "metadata": {},
   "outputs": [],
   "source": [
    "movie_info_list = load_data('disney_data.json')"
   ]
  },
  {
   "cell_type": "code",
   "execution_count": 11,
   "id": "cardiovascular-penny",
   "metadata": {},
   "outputs": [],
   "source": [
    "def RepresentsInt(s): #This function checks whether the variable is integer or not\n",
    "    try: \n",
    "        int(s)\n",
    "        return True\n",
    "    except ValueError:\n",
    "        return False"
   ]
  },
  {
   "cell_type": "code",
   "execution_count": 12,
   "id": "removed-blood",
   "metadata": {},
   "outputs": [],
   "source": [
    "def covert_to_date_time(date): #This function converts the date cycle to a YYYY-MM-DD date\n",
    "    \n",
    "    months = {'January':1, 'February':2, 'March':3, 'April':4, 'May':5, 'June':6, 'July':7, 'August':8, 'September':9, 'October':10, 'November':11, 'December':12}\n",
    "    \n",
    "    date = date.replace(',','')\n",
    "    date = date.split(' ')\n",
    "    \n",
    "    if(date[0]==''): #If there is no date\n",
    "        return 'None-None-None'\n",
    "    if(len(date)==2):  #If there is only a year\n",
    "        year = date[0]\n",
    "        return str(year)+'-None-None'\n",
    "    \n",
    "    month = None\n",
    "    day = None\n",
    "    year = None\n",
    "    \n",
    "    #We now distinguish which of the three members of the array is a year, which is a day, and which represents a month.\n",
    "    if date[0] in months: \n",
    "        month = months[date[0]]\n",
    "        if RepresentsInt(date[1]):\n",
    "            if int(date[1]) < 1000:\n",
    "                day = int(date[1])\n",
    "            else:\n",
    "                year = int(date[1])\n",
    "    \n",
    "    if date[1] in months:\n",
    "        month = months[date[1]]\n",
    "        if RepresentsInt(date[0]):\n",
    "            day = int(date[0])\n",
    "    \n",
    "    #This condition is added after an error in the data run - this is a single case\n",
    "    if RepresentsInt(date[2]) and year == None:\n",
    "        year = int(date[2])\n",
    "    \n",
    "    return '-'.join([str(year), str(month), str(day)])"
   ]
  },
  {
   "cell_type": "code",
   "execution_count": 13,
   "id": "furnished-basis",
   "metadata": {},
   "outputs": [],
   "source": [
    "def str_to_money(money): #This function converts the money string to numeric value (in dollars)\n",
    "    money = str(money)\n",
    "    \n",
    "    convert = 1\n",
    "    \n",
    "    #Deleting all the strings that interfere with our conversion of the string to integer\n",
    "    money = money.replace('US','')\n",
    "    money = money.replace('–',' ')\n",
    "    money = money.replace('–',' ')\n",
    "    money = money.replace('-',' ')\n",
    "    money = money.strip() \n",
    "    \n",
    "    sign = '$'\n",
    "    \n",
    "    if '₹' in money: #Check if Rupee - than convert to dollar (₹ = 0.013 x $)\n",
    "        sign = '₹'\n",
    "        money = money.replace('$','')\n",
    "        convert = 0.013\n",
    "    elif '¥' in money: #Check if Yuan - than convert to dollar (¥ = 0.0091 x $)\n",
    "        convert = 0.0091\n",
    "        sign = '¥'\n",
    "    elif '$' in money: #A small change that makes a difference: from '$ ' to '$'\n",
    "        money = money.replace('$ ','$')\n",
    "    \n",
    "    #Isolating the amount of money from the rest of the string\n",
    "    if sign in money:\n",
    "        money = money.split(sign)[1]\n",
    "    else:\n",
    "        money = money.split(' ')[0]\n",
    "    \n",
    "    #Convert money to millions and billions (if any) and numerical value.\n",
    "    if 'million' in money:\n",
    "        money = money.replace(',','')\n",
    "        money = float(money.split(' ')[0]) * 1000000\n",
    "    elif 'billion' in money:\n",
    "        money = money.replace(',','')\n",
    "        money = float(money.split(' ')[0]) * 1000000000\n",
    "    else:\n",
    "        money = money.replace(',','')\n",
    "        money = float(money.split(' ')[0])\n",
    "    \n",
    "    return money * convert"
   ]
  },
  {
   "cell_type": "code",
   "execution_count": 15,
   "id": "packed-failure",
   "metadata": {},
   "outputs": [],
   "source": [
    "#In addition to the JSON file we also build a dataframe with columns of the movie name and the production company\n",
    "df = pd.DataFrame({'Title': [], 'Production Company': []})"
   ]
  },
  {
   "cell_type": "code",
   "execution_count": 16,
   "id": "precious-afghanistan",
   "metadata": {},
   "outputs": [
    {
     "name": "stderr",
     "output_type": "stream",
     "text": [
      "C:\\Users\\User\\anaconda3\\envs\\tt\\lib\\site-packages\\numpy\\core\\_asarray.py:102: VisibleDeprecationWarning: Creating an ndarray from ragged nested sequences (which is a list-or-tuple of lists-or-tuples-or ndarrays with different lengths or shapes) is deprecated. If you meant to do this, you must specify 'dtype=object' when creating the ndarray.\n",
      "  return array(a, dtype, copy=False, order=order)\n"
     ]
    }
   ],
   "source": [
    "for movie in movie_info_list: #Now it's time to build the datasets\n",
    "    \n",
    "    #Isolating the amount of minutes from the rest of the string\n",
    "    if 'Running time' in movie:\n",
    "        if isinstance(movie['Running time'],list):\n",
    "            movie['Running time'] = movie['Running time'][-1]\n",
    "        \n",
    "        movie['Running time (Minutes)'] = int(movie['Running time'].split(' ')[0].split('–')[0])\n",
    "        movie.pop('Running time', None) #Now removing the string of the time\n",
    "    \n",
    "    #Use our function to convert the date to a normal structure (including handling lists)\n",
    "    if 'Release date' in movie:\n",
    "        if isinstance(movie['Release date'],list):\n",
    "            movie['Release Date (date-time)'] = []\n",
    "            \n",
    "            for date in movie['Release date']:\n",
    "                movie['Release Date (date-time)'].append(covert_to_date_time(date))\n",
    "        else:\n",
    "            movie['Release Date (date-time)'] = covert_to_date_time(movie['Release date'])\n",
    "    \n",
    "    #Use our function to convert the money to a numeric value (including handling lists)\n",
    "    if \"Box office\" in movie:    \n",
    "        if isinstance(movie['Box office'],list):        \n",
    "            new_box_office = []\n",
    "            \n",
    "            for Box_office in movie['Box office']:\n",
    "                money = str_to_money(Box_office)\n",
    "                new_box_office.append(money)\n",
    "            movie['Box office'] = new_box_office\n",
    "        else:\n",
    "            money = str_to_money(movie[\"Box office\"])\n",
    "            movie['Box office'] = money\n",
    "    \n",
    "    #Use our function to convert the money to a numeric value (including handling lists)\n",
    "    if 'Budget' in movie:\n",
    "        if movie[\"Budget\"] != 'unknown':\n",
    "            if isinstance(movie['Budget'],list):\n",
    "                new_Budget = []\n",
    "                \n",
    "                for Budget in movie['Budget']:\n",
    "                    new_Budget.append( str_to_money(Budget) )\n",
    "                movie['Budget'] = new_Budget\n",
    "            else:\n",
    "                movie['Budget'] = str_to_money(movie[\"Budget\"])\n",
    "   \n",
    "    #Now it remains to find the production company for the csv file.\n",
    "    #(thanks to Wikipedia and its unclean data - the production company's string comes in three forms)\n",
    "    if 'Production company' in movie:\n",
    "        df.loc[len(df)] = [movie[\"Title\"], movie['Production company']]\n",
    "    elif 'Productioncompany ' in movie:\n",
    "        df.loc[len(df)] = [movie[\"Title\"], movie['Productioncompany ']]\n",
    "    elif 'Productioncompanies ' in movie:\n",
    "        df.loc[len(df)] = [movie[\"Title\"], movie['Productioncompanies ']]\n",
    "    else:\n",
    "        df.loc[len(df)] = [movie[\"Title\"], '']\n",
    "    \n",
    "    "
   ]
  },
  {
   "cell_type": "code",
   "execution_count": 17,
   "id": "permanent-disclosure",
   "metadata": {},
   "outputs": [
    {
     "name": "stdout",
     "output_type": "stream",
     "text": [
      "Title:\n",
      "\tThe Aristocats\n",
      "Directed by:\n",
      "\t['Wolfgang Reitherman']\n",
      "Story by:\n",
      "\t['Ken Anderson', 'Larry Clemmons', 'Eric Cleworth', 'Vance Gerry', 'Julius Svendsen', 'Frank Thomas', 'Ralph Wright']\n",
      "Based on:\n",
      "\t['\"The Aristocats\"']\n",
      "Produced by:\n",
      "\t['Winston Hibler', 'Wolfgang Reitherman']\n",
      "Starring:\n",
      "\t['Phil Harris', 'Eva Gabor', 'Sterling Holloway', 'Scatman Crothers', 'Paul Winchell', 'Lord Tim Hudson', 'Thurl Ravenscroft', 'Dean Clark', 'Liz English', 'Gary Dubin']\n",
      "Edited by:\n",
      "\t['Tom Acosta']\n",
      "Music by:\n",
      "\t['George Bruns']\n",
      "Productioncompany :\n",
      "\t['Walt Disney Productions']\n",
      "Distributed by:\n",
      "\t['Buena Vista Distribution']\n",
      "Release date:\n",
      "\t['December 11, 1970 (1970-12-11) (premiere)', 'December 24, 1970 (1970-12-24) (United States)']\n",
      "Country:\n",
      "\t['United States']\n",
      "Language:\n",
      "\t['English']\n",
      "Budget:\n",
      "\t[4000000.0]\n",
      "Box office:\n",
      "\t[191000000.0]\n",
      "Running time (Minutes):\n",
      "\t79\n",
      "Release Date (date-time):\n",
      "\t['1970-12-11', '1970-12-24']\n"
     ]
    }
   ],
   "source": [
    "#Check that everything is working properly\n",
    "pretty(movie_info_list[100])"
   ]
  },
  {
   "cell_type": "markdown",
   "id": "therapeutic-dutch",
   "metadata": {},
   "source": [
    "Awesome! The third task is complete ✅"
   ]
  },
  {
   "cell_type": "code",
   "execution_count": 18,
   "id": "addressed-trademark",
   "metadata": {},
   "outputs": [
    {
     "data": {
      "text/html": [
       "<div>\n",
       "<style scoped>\n",
       "    .dataframe tbody tr th:only-of-type {\n",
       "        vertical-align: middle;\n",
       "    }\n",
       "\n",
       "    .dataframe tbody tr th {\n",
       "        vertical-align: top;\n",
       "    }\n",
       "\n",
       "    .dataframe thead th {\n",
       "        text-align: right;\n",
       "    }\n",
       "</style>\n",
       "<table border=\"1\" class=\"dataframe\">\n",
       "  <thead>\n",
       "    <tr style=\"text-align: right;\">\n",
       "      <th></th>\n",
       "      <th>Title</th>\n",
       "      <th>Production Company</th>\n",
       "    </tr>\n",
       "  </thead>\n",
       "  <tbody>\n",
       "    <tr>\n",
       "      <th>0</th>\n",
       "      <td>Academy Award Review of Walt Disney Cartoons</td>\n",
       "      <td>[Walt Disney Productions]</td>\n",
       "    </tr>\n",
       "    <tr>\n",
       "      <th>1</th>\n",
       "      <td>Snow White and the Seven Dwarfs</td>\n",
       "      <td>[Walt Disney Productions]</td>\n",
       "    </tr>\n",
       "    <tr>\n",
       "      <th>2</th>\n",
       "      <td>Pinocchio</td>\n",
       "      <td>[Walt Disney Productions]</td>\n",
       "    </tr>\n",
       "    <tr>\n",
       "      <th>3</th>\n",
       "      <td>Fantasia</td>\n",
       "      <td>[Walt Disney Productions]</td>\n",
       "    </tr>\n",
       "    <tr>\n",
       "      <th>4</th>\n",
       "      <td>The Reluctant Dragon</td>\n",
       "      <td>[Walt Disney Productions]</td>\n",
       "    </tr>\n",
       "  </tbody>\n",
       "</table>\n",
       "</div>"
      ],
      "text/plain": [
       "                                          Title         Production Company\n",
       "0  Academy Award Review of Walt Disney Cartoons  [Walt Disney Productions]\n",
       "1               Snow White and the Seven Dwarfs  [Walt Disney Productions]\n",
       "2                                     Pinocchio  [Walt Disney Productions]\n",
       "3                                      Fantasia  [Walt Disney Productions]\n",
       "4                          The Reluctant Dragon  [Walt Disney Productions]"
      ]
     },
     "execution_count": 18,
     "metadata": {},
     "output_type": "execute_result"
    }
   ],
   "source": [
    "df = df.dropna()\n",
    "df.head()"
   ]
  },
  {
   "cell_type": "markdown",
   "id": "apparent-pasta",
   "metadata": {},
   "source": [
    "### Task four: Keep the data organized in json and csv files.\n",
    "The final task is very simple: the clean data - save in the appropriate files ✅"
   ]
  },
  {
   "cell_type": "code",
   "execution_count": 19,
   "id": "vocal-nepal",
   "metadata": {},
   "outputs": [],
   "source": [
    "save_data('disney_data.json',movie_info_list)\n",
    "df.to_csv('movie_data.csv')"
   ]
  },
  {
   "cell_type": "markdown",
   "id": "listed-shadow",
   "metadata": {},
   "source": [
    "<h2 align=\"center\">Looks good! Now we can analyze the data as we wish.</h2>\n",
    "\n",
    "![](https://media1.giphy.com/media/w87qIKJBwmffO/200w.webp?cid=ecf05e47u8ph8v3bc00vlfnj8yrna56l1i5s00fhmiq0csy0&rid=200w.webp&ct=g)"
   ]
  }
 ],
 "metadata": {
  "kernelspec": {
   "display_name": "Python 3",
   "language": "python",
   "name": "python3"
  },
  "language_info": {
   "codemirror_mode": {
    "name": "ipython",
    "version": 3
   },
   "file_extension": ".py",
   "mimetype": "text/x-python",
   "name": "python",
   "nbconvert_exporter": "python",
   "pygments_lexer": "ipython3",
   "version": "3.7.9"
  }
 },
 "nbformat": 4,
 "nbformat_minor": 5
}
