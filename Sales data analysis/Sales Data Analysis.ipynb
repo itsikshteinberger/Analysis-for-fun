{
 "cells": [
  {
   "cell_type": "markdown",
   "id": "accompanied-rings",
   "metadata": {},
   "source": [
    "# Sales data analysis\n",
    "\n",
    "#### Given a sales data, answer the following questions:\n",
    "* What was the best month for sales? How much was earned that month?\n",
    "* What city sold the most product?\n",
    "* What time should we display advertisements to maximize likelihood of customer's buying product?\n",
    "* What products are most often sold together?\n",
    "* What product sold the most? Why do you think it sold the most?\n",
    "\n",
    "First, We import all the necessary libraries:"
   ]
  },
  {
   "cell_type": "code",
   "execution_count": 1,
   "id": "greenhouse-bobby",
   "metadata": {},
   "outputs": [],
   "source": [
    "import matplotlib.pyplot as plt\n",
    "import pandas as pd\n",
    "import os"
   ]
  },
  {
   "cell_type": "markdown",
   "id": "vital-impact",
   "metadata": {},
   "source": [
    "Then, we need to clean the data:"
   ]
  },
  {
   "cell_type": "code",
   "execution_count": 2,
   "id": "aquatic-ordinance",
   "metadata": {},
   "outputs": [],
   "source": [
    "#Combine all the data frames into a single dataframe\n",
    "\n",
    "Path = \"./Sales_data\"\n",
    "data_frames = os.listdir(Path)\n",
    "data_frames = list( map( lambda df:\n",
    "                         pd.read_csv(os.path.join(Path, df)),\n",
    "                         data_frames ))\n",
    "data = pd.concat(data_frames)"
   ]
  },
  {
   "cell_type": "code",
   "execution_count": 3,
   "id": "juvenile-trout",
   "metadata": {},
   "outputs": [
    {
     "data": {
      "text/html": [
       "<div>\n",
       "<style scoped>\n",
       "    .dataframe tbody tr th:only-of-type {\n",
       "        vertical-align: middle;\n",
       "    }\n",
       "\n",
       "    .dataframe tbody tr th {\n",
       "        vertical-align: top;\n",
       "    }\n",
       "\n",
       "    .dataframe thead th {\n",
       "        text-align: right;\n",
       "    }\n",
       "</style>\n",
       "<table border=\"1\" class=\"dataframe\">\n",
       "  <thead>\n",
       "    <tr style=\"text-align: right;\">\n",
       "      <th></th>\n",
       "      <th>Order ID</th>\n",
       "      <th>Product</th>\n",
       "      <th>Quantity Ordered</th>\n",
       "      <th>Price Each</th>\n",
       "      <th>Order Date</th>\n",
       "      <th>Purchase Address</th>\n",
       "    </tr>\n",
       "  </thead>\n",
       "  <tbody>\n",
       "    <tr>\n",
       "      <th>0</th>\n",
       "      <td>176558</td>\n",
       "      <td>USB-C Charging Cable</td>\n",
       "      <td>2</td>\n",
       "      <td>11.95</td>\n",
       "      <td>04/19/19 08:46</td>\n",
       "      <td>917 1st St, Dallas, TX 75001</td>\n",
       "    </tr>\n",
       "    <tr>\n",
       "      <th>1</th>\n",
       "      <td>NaN</td>\n",
       "      <td>NaN</td>\n",
       "      <td>NaN</td>\n",
       "      <td>NaN</td>\n",
       "      <td>NaN</td>\n",
       "      <td>NaN</td>\n",
       "    </tr>\n",
       "    <tr>\n",
       "      <th>2</th>\n",
       "      <td>176559</td>\n",
       "      <td>Bose SoundSport Headphones</td>\n",
       "      <td>1</td>\n",
       "      <td>99.99</td>\n",
       "      <td>04/07/19 22:30</td>\n",
       "      <td>682 Chestnut St, Boston, MA 02215</td>\n",
       "    </tr>\n",
       "    <tr>\n",
       "      <th>3</th>\n",
       "      <td>176560</td>\n",
       "      <td>Google Phone</td>\n",
       "      <td>1</td>\n",
       "      <td>600</td>\n",
       "      <td>04/12/19 14:38</td>\n",
       "      <td>669 Spruce St, Los Angeles, CA 90001</td>\n",
       "    </tr>\n",
       "    <tr>\n",
       "      <th>4</th>\n",
       "      <td>176560</td>\n",
       "      <td>Wired Headphones</td>\n",
       "      <td>1</td>\n",
       "      <td>11.99</td>\n",
       "      <td>04/12/19 14:38</td>\n",
       "      <td>669 Spruce St, Los Angeles, CA 90001</td>\n",
       "    </tr>\n",
       "  </tbody>\n",
       "</table>\n",
       "</div>"
      ],
      "text/plain": [
       "  Order ID                     Product Quantity Ordered Price Each  \\\n",
       "0   176558        USB-C Charging Cable                2      11.95   \n",
       "1      NaN                         NaN              NaN        NaN   \n",
       "2   176559  Bose SoundSport Headphones                1      99.99   \n",
       "3   176560                Google Phone                1        600   \n",
       "4   176560            Wired Headphones                1      11.99   \n",
       "\n",
       "       Order Date                      Purchase Address  \n",
       "0  04/19/19 08:46          917 1st St, Dallas, TX 75001  \n",
       "1             NaN                                   NaN  \n",
       "2  04/07/19 22:30     682 Chestnut St, Boston, MA 02215  \n",
       "3  04/12/19 14:38  669 Spruce St, Los Angeles, CA 90001  \n",
       "4  04/12/19 14:38  669 Spruce St, Los Angeles, CA 90001  "
      ]
     },
     "execution_count": 3,
     "metadata": {},
     "output_type": "execute_result"
    }
   ],
   "source": [
    "data.head()"
   ]
  },
  {
   "cell_type": "code",
   "execution_count": 4,
   "id": "frozen-liquid",
   "metadata": {},
   "outputs": [
    {
     "data": {
      "text/html": [
       "<div>\n",
       "<style scoped>\n",
       "    .dataframe tbody tr th:only-of-type {\n",
       "        vertical-align: middle;\n",
       "    }\n",
       "\n",
       "    .dataframe tbody tr th {\n",
       "        vertical-align: top;\n",
       "    }\n",
       "\n",
       "    .dataframe thead th {\n",
       "        text-align: right;\n",
       "    }\n",
       "</style>\n",
       "<table border=\"1\" class=\"dataframe\">\n",
       "  <thead>\n",
       "    <tr style=\"text-align: right;\">\n",
       "      <th></th>\n",
       "      <th>Order ID</th>\n",
       "      <th>Product</th>\n",
       "      <th>Quantity Ordered</th>\n",
       "      <th>Price Each</th>\n",
       "      <th>Order Date</th>\n",
       "      <th>Purchase Address</th>\n",
       "    </tr>\n",
       "  </thead>\n",
       "  <tbody>\n",
       "    <tr>\n",
       "      <th>0</th>\n",
       "      <td>176558</td>\n",
       "      <td>USB-C Charging Cable</td>\n",
       "      <td>2</td>\n",
       "      <td>11.95</td>\n",
       "      <td>04/19/19 08:46</td>\n",
       "      <td>917 1st St, Dallas, TX 75001</td>\n",
       "    </tr>\n",
       "    <tr>\n",
       "      <th>2</th>\n",
       "      <td>176559</td>\n",
       "      <td>Bose SoundSport Headphones</td>\n",
       "      <td>1</td>\n",
       "      <td>99.99</td>\n",
       "      <td>04/07/19 22:30</td>\n",
       "      <td>682 Chestnut St, Boston, MA 02215</td>\n",
       "    </tr>\n",
       "    <tr>\n",
       "      <th>3</th>\n",
       "      <td>176560</td>\n",
       "      <td>Google Phone</td>\n",
       "      <td>1</td>\n",
       "      <td>600</td>\n",
       "      <td>04/12/19 14:38</td>\n",
       "      <td>669 Spruce St, Los Angeles, CA 90001</td>\n",
       "    </tr>\n",
       "    <tr>\n",
       "      <th>4</th>\n",
       "      <td>176560</td>\n",
       "      <td>Wired Headphones</td>\n",
       "      <td>1</td>\n",
       "      <td>11.99</td>\n",
       "      <td>04/12/19 14:38</td>\n",
       "      <td>669 Spruce St, Los Angeles, CA 90001</td>\n",
       "    </tr>\n",
       "    <tr>\n",
       "      <th>5</th>\n",
       "      <td>176561</td>\n",
       "      <td>Wired Headphones</td>\n",
       "      <td>1</td>\n",
       "      <td>11.99</td>\n",
       "      <td>04/30/19 09:27</td>\n",
       "      <td>333 8th St, Los Angeles, CA 90001</td>\n",
       "    </tr>\n",
       "  </tbody>\n",
       "</table>\n",
       "</div>"
      ],
      "text/plain": [
       "  Order ID                     Product Quantity Ordered Price Each  \\\n",
       "0   176558        USB-C Charging Cable                2      11.95   \n",
       "2   176559  Bose SoundSport Headphones                1      99.99   \n",
       "3   176560                Google Phone                1        600   \n",
       "4   176560            Wired Headphones                1      11.99   \n",
       "5   176561            Wired Headphones                1      11.99   \n",
       "\n",
       "       Order Date                      Purchase Address  \n",
       "0  04/19/19 08:46          917 1st St, Dallas, TX 75001  \n",
       "2  04/07/19 22:30     682 Chestnut St, Boston, MA 02215  \n",
       "3  04/12/19 14:38  669 Spruce St, Los Angeles, CA 90001  \n",
       "4  04/12/19 14:38  669 Spruce St, Los Angeles, CA 90001  \n",
       "5  04/30/19 09:27     333 8th St, Los Angeles, CA 90001  "
      ]
     },
     "execution_count": 4,
     "metadata": {},
     "output_type": "execute_result"
    }
   ],
   "source": [
    "#Get rid of Nan values\n",
    "\n",
    "data = data.dropna(how='all')\n",
    "data.head()"
   ]
  },
  {
   "cell_type": "code",
   "execution_count": 5,
   "id": "static-outside",
   "metadata": {},
   "outputs": [],
   "source": [
    "#Get rid of Non-Date values\n",
    "\n",
    "data = data[data['Order Date'].str[0:2]!='Or']"
   ]
  },
  {
   "cell_type": "code",
   "execution_count": 6,
   "id": "center-paper",
   "metadata": {},
   "outputs": [],
   "source": [
    "#Convert the 'Order Date' columns to four separate columns ('Month', 'Day', 'Year', 'Hour')\n",
    "\n",
    "data['Month'] = data['Order Date'].str[0:2]\n",
    "data['Day'] = data['Order Date'].str[3:5]\n",
    "data['Year'] = data['Order Date'].str[6:8]\n",
    "data['Hour'] = data['Order Date'].str[9:]\n",
    "data = data.drop(columns=['Order Date'])"
   ]
  },
  {
   "cell_type": "code",
   "execution_count": 7,
   "id": "vocal-terminal",
   "metadata": {},
   "outputs": [],
   "source": [
    "#Add a 'City' colunm based on 'Purchase Address' colunm (relevant for the second question)\n",
    "\n",
    "data['City'] = data['Purchase Address'].str.split(\",\").str[1] + data['Purchase Address'].str.split(\",\").str[2].str[0:3]"
   ]
  },
  {
   "cell_type": "code",
   "execution_count": 8,
   "id": "color-practice",
   "metadata": {},
   "outputs": [],
   "source": [
    "#You know what they say: \"No need to be a string if you are not one\"\n",
    "\n",
    "data['Month'] = data['Month'].astype(int)\n",
    "data['Day'] = data['Day'].astype(int)\n",
    "data['Year'] = data['Year'].astype(int)\n",
    "data['Quantity Ordered'] = data['Quantity Ordered'].astype(int)\n",
    "data['Order ID'] = data['Order ID'].astype(int)\n",
    "data['Price Each'] = data['Price Each'].astype(float)"
   ]
  },
  {
   "cell_type": "code",
   "execution_count": 9,
   "id": "coupled-stress",
   "metadata": {},
   "outputs": [
    {
     "data": {
      "text/html": [
       "<div>\n",
       "<style scoped>\n",
       "    .dataframe tbody tr th:only-of-type {\n",
       "        vertical-align: middle;\n",
       "    }\n",
       "\n",
       "    .dataframe tbody tr th {\n",
       "        vertical-align: top;\n",
       "    }\n",
       "\n",
       "    .dataframe thead th {\n",
       "        text-align: right;\n",
       "    }\n",
       "</style>\n",
       "<table border=\"1\" class=\"dataframe\">\n",
       "  <thead>\n",
       "    <tr style=\"text-align: right;\">\n",
       "      <th></th>\n",
       "      <th>Order ID</th>\n",
       "      <th>Product</th>\n",
       "      <th>Quantity Ordered</th>\n",
       "      <th>Price Each</th>\n",
       "      <th>Purchase Address</th>\n",
       "      <th>Month</th>\n",
       "      <th>Day</th>\n",
       "      <th>Year</th>\n",
       "      <th>Hour</th>\n",
       "      <th>City</th>\n",
       "    </tr>\n",
       "  </thead>\n",
       "  <tbody>\n",
       "    <tr>\n",
       "      <th>0</th>\n",
       "      <td>176558</td>\n",
       "      <td>USB-C Charging Cable</td>\n",
       "      <td>2</td>\n",
       "      <td>11.95</td>\n",
       "      <td>917 1st St, Dallas, TX 75001</td>\n",
       "      <td>4</td>\n",
       "      <td>19</td>\n",
       "      <td>19</td>\n",
       "      <td>08:46</td>\n",
       "      <td>Dallas TX</td>\n",
       "    </tr>\n",
       "    <tr>\n",
       "      <th>2</th>\n",
       "      <td>176559</td>\n",
       "      <td>Bose SoundSport Headphones</td>\n",
       "      <td>1</td>\n",
       "      <td>99.99</td>\n",
       "      <td>682 Chestnut St, Boston, MA 02215</td>\n",
       "      <td>4</td>\n",
       "      <td>7</td>\n",
       "      <td>19</td>\n",
       "      <td>22:30</td>\n",
       "      <td>Boston MA</td>\n",
       "    </tr>\n",
       "    <tr>\n",
       "      <th>3</th>\n",
       "      <td>176560</td>\n",
       "      <td>Google Phone</td>\n",
       "      <td>1</td>\n",
       "      <td>600.00</td>\n",
       "      <td>669 Spruce St, Los Angeles, CA 90001</td>\n",
       "      <td>4</td>\n",
       "      <td>12</td>\n",
       "      <td>19</td>\n",
       "      <td>14:38</td>\n",
       "      <td>Los Angeles CA</td>\n",
       "    </tr>\n",
       "    <tr>\n",
       "      <th>4</th>\n",
       "      <td>176560</td>\n",
       "      <td>Wired Headphones</td>\n",
       "      <td>1</td>\n",
       "      <td>11.99</td>\n",
       "      <td>669 Spruce St, Los Angeles, CA 90001</td>\n",
       "      <td>4</td>\n",
       "      <td>12</td>\n",
       "      <td>19</td>\n",
       "      <td>14:38</td>\n",
       "      <td>Los Angeles CA</td>\n",
       "    </tr>\n",
       "    <tr>\n",
       "      <th>5</th>\n",
       "      <td>176561</td>\n",
       "      <td>Wired Headphones</td>\n",
       "      <td>1</td>\n",
       "      <td>11.99</td>\n",
       "      <td>333 8th St, Los Angeles, CA 90001</td>\n",
       "      <td>4</td>\n",
       "      <td>30</td>\n",
       "      <td>19</td>\n",
       "      <td>09:27</td>\n",
       "      <td>Los Angeles CA</td>\n",
       "    </tr>\n",
       "    <tr>\n",
       "      <th>6</th>\n",
       "      <td>176562</td>\n",
       "      <td>USB-C Charging Cable</td>\n",
       "      <td>1</td>\n",
       "      <td>11.95</td>\n",
       "      <td>381 Wilson St, San Francisco, CA 94016</td>\n",
       "      <td>4</td>\n",
       "      <td>29</td>\n",
       "      <td>19</td>\n",
       "      <td>13:03</td>\n",
       "      <td>San Francisco CA</td>\n",
       "    </tr>\n",
       "    <tr>\n",
       "      <th>7</th>\n",
       "      <td>176563</td>\n",
       "      <td>Bose SoundSport Headphones</td>\n",
       "      <td>1</td>\n",
       "      <td>99.99</td>\n",
       "      <td>668 Center St, Seattle, WA 98101</td>\n",
       "      <td>4</td>\n",
       "      <td>2</td>\n",
       "      <td>19</td>\n",
       "      <td>07:46</td>\n",
       "      <td>Seattle WA</td>\n",
       "    </tr>\n",
       "    <tr>\n",
       "      <th>8</th>\n",
       "      <td>176564</td>\n",
       "      <td>USB-C Charging Cable</td>\n",
       "      <td>1</td>\n",
       "      <td>11.95</td>\n",
       "      <td>790 Ridge St, Atlanta, GA 30301</td>\n",
       "      <td>4</td>\n",
       "      <td>12</td>\n",
       "      <td>19</td>\n",
       "      <td>10:58</td>\n",
       "      <td>Atlanta GA</td>\n",
       "    </tr>\n",
       "    <tr>\n",
       "      <th>9</th>\n",
       "      <td>176565</td>\n",
       "      <td>Macbook Pro Laptop</td>\n",
       "      <td>1</td>\n",
       "      <td>1700.00</td>\n",
       "      <td>915 Willow St, San Francisco, CA 94016</td>\n",
       "      <td>4</td>\n",
       "      <td>24</td>\n",
       "      <td>19</td>\n",
       "      <td>10:38</td>\n",
       "      <td>San Francisco CA</td>\n",
       "    </tr>\n",
       "    <tr>\n",
       "      <th>10</th>\n",
       "      <td>176566</td>\n",
       "      <td>Wired Headphones</td>\n",
       "      <td>1</td>\n",
       "      <td>11.99</td>\n",
       "      <td>83 7th St, Boston, MA 02215</td>\n",
       "      <td>4</td>\n",
       "      <td>8</td>\n",
       "      <td>19</td>\n",
       "      <td>14:05</td>\n",
       "      <td>Boston MA</td>\n",
       "    </tr>\n",
       "  </tbody>\n",
       "</table>\n",
       "</div>"
      ],
      "text/plain": [
       "    Order ID                     Product  Quantity Ordered  Price Each  \\\n",
       "0     176558        USB-C Charging Cable                 2       11.95   \n",
       "2     176559  Bose SoundSport Headphones                 1       99.99   \n",
       "3     176560                Google Phone                 1      600.00   \n",
       "4     176560            Wired Headphones                 1       11.99   \n",
       "5     176561            Wired Headphones                 1       11.99   \n",
       "6     176562        USB-C Charging Cable                 1       11.95   \n",
       "7     176563  Bose SoundSport Headphones                 1       99.99   \n",
       "8     176564        USB-C Charging Cable                 1       11.95   \n",
       "9     176565          Macbook Pro Laptop                 1     1700.00   \n",
       "10    176566            Wired Headphones                 1       11.99   \n",
       "\n",
       "                          Purchase Address  Month  Day  Year   Hour  \\\n",
       "0             917 1st St, Dallas, TX 75001      4   19    19  08:46   \n",
       "2        682 Chestnut St, Boston, MA 02215      4    7    19  22:30   \n",
       "3     669 Spruce St, Los Angeles, CA 90001      4   12    19  14:38   \n",
       "4     669 Spruce St, Los Angeles, CA 90001      4   12    19  14:38   \n",
       "5        333 8th St, Los Angeles, CA 90001      4   30    19  09:27   \n",
       "6   381 Wilson St, San Francisco, CA 94016      4   29    19  13:03   \n",
       "7         668 Center St, Seattle, WA 98101      4    2    19  07:46   \n",
       "8          790 Ridge St, Atlanta, GA 30301      4   12    19  10:58   \n",
       "9   915 Willow St, San Francisco, CA 94016      4   24    19  10:38   \n",
       "10             83 7th St, Boston, MA 02215      4    8    19  14:05   \n",
       "\n",
       "                 City  \n",
       "0           Dallas TX  \n",
       "2           Boston MA  \n",
       "3      Los Angeles CA  \n",
       "4      Los Angeles CA  \n",
       "5      Los Angeles CA  \n",
       "6    San Francisco CA  \n",
       "7          Seattle WA  \n",
       "8          Atlanta GA  \n",
       "9    San Francisco CA  \n",
       "10          Boston MA  "
      ]
     },
     "execution_count": 9,
     "metadata": {},
     "output_type": "execute_result"
    }
   ],
   "source": [
    "#last check\n",
    "\n",
    "data.head(10)"
   ]
  },
  {
   "cell_type": "markdown",
   "id": "weekly-making",
   "metadata": {},
   "source": [
    "### Q1: What was the best month for sales? How much was earned that month?"
   ]
  },
  {
   "cell_type": "code",
   "execution_count": 10,
   "id": "structured-yugoslavia",
   "metadata": {},
   "outputs": [],
   "source": [
    "#Add 'Total' column that represents the total amount of the order of a particular product.\n",
    "\n",
    "data['Total'] = data['Quantity Ordered'] * data['Price Each']"
   ]
  },
  {
   "cell_type": "code",
   "execution_count": 11,
   "id": "south-concentration",
   "metadata": {},
   "outputs": [
    {
     "data": {
      "image/png": "[encoded data removed]",
      "text/plain": [
       "<Figure size 432x288 with 1 Axes>"
      ]
     },
     "metadata": {
      "needs_background": "light"
     },
     "output_type": "display_data"
    },
    {
     "name": "stdout",
     "output_type": "stream",
     "text": [
      "Answer: December\n"
     ]
    }
   ],
   "source": [
    "#Sum the 'Total' by month and display the answer\n",
    "\n",
    "months = range(1,13)\n",
    "sales_by_months = data.groupby(by=[\"Month\"]).sum()['Total']\n",
    "plt.bar(months, sales_by_months, color='lightblue', edgecolor='cornflowerblue')\n",
    "plt.xticks(months)\n",
    "plt.ylabel('Total sales')\n",
    "plt.xlabel('Month number')\n",
    "plt.show()\n",
    "\n",
    "print('Answer: December')"
   ]
  },
  {
   "cell_type": "markdown",
   "id": "efficient-tonight",
   "metadata": {},
   "source": [
    "### Q2: What city sold the most product?"
   ]
  },
  {
   "cell_type": "code",
   "execution_count": 12,
   "id": "decent-conditioning",
   "metadata": {},
   "outputs": [],
   "source": [
    "#Sum the 'Quantity Ordered' by city and preparing the data for plotting\n",
    "\n",
    "Quantity_by_city = data.groupby(by=[\"City\"]).sum()['Quantity Ordered'].astype(int)\n",
    "Cities = [city for city,df in data.groupby(by=[\"City\"])]"
   ]
  },
  {
   "cell_type": "code",
   "execution_count": 13,
   "id": "hawaiian-thompson",
   "metadata": {},
   "outputs": [
    {
     "data": {
      "image/png": "[encoded data removed]",
      "text/plain": [
       "<Figure size 432x288 with 1 Axes>"
      ]
     },
     "metadata": {
      "needs_background": "light"
     },
     "output_type": "display_data"
    },
    {
     "name": "stdout",
     "output_type": "stream",
     "text": [
      "Answer: San Francisco CA\n"
     ]
    }
   ],
   "source": [
    "#Display the answer\n",
    "\n",
    "plt.bar(Cities, Quantity_by_city, color='limegreen', edgecolor='green')\n",
    "plt.xticks(Cities,rotation='vertical')\n",
    "plt.ylabel('Total products')\n",
    "plt.xlabel('City')\n",
    "plt.show()\n",
    "\n",
    "print('Answer: San Francisco CA')"
   ]
  },
  {
   "cell_type": "markdown",
   "id": "brief-insulation",
   "metadata": {},
   "source": [
    "### Q3: What time should we display advertisements to maximize likelihood of customer's buying product?"
   ]
  },
  {
   "cell_type": "code",
   "execution_count": 14,
   "id": "continental-commission",
   "metadata": {},
   "outputs": [],
   "source": [
    "#Separating the hour from the original column\n",
    "\n",
    "data['Numerical Hour'] = data['Hour'].str[0:2].astype(int)"
   ]
  },
  {
   "cell_type": "code",
   "execution_count": 15,
   "id": "oriented-surfing",
   "metadata": {},
   "outputs": [],
   "source": [
    "#Sum the 'Quantity Ordered' by 'Numerical Hour' and preparing the data for plotting\n",
    "\n",
    "Quantity_by_hour = data.groupby(by=[\"Numerical Hour\"]).sum()['Quantity Ordered']\n",
    "Hours = [hour for hour,df in data.groupby(by=[\"Numerical Hour\"])]"
   ]
  },
  {
   "cell_type": "code",
   "execution_count": 16,
   "id": "solid-converter",
   "metadata": {},
   "outputs": [
    {
     "data": {
      "image/png": "[encoded data removed]",
      "text/plain": [
       "<Figure size 432x288 with 1 Axes>"
      ]
     },
     "metadata": {
      "needs_background": "light"
     },
     "output_type": "display_data"
    },
    {
     "name": "stdout",
     "output_type": "stream",
     "text": [
      "Answer: 10:00 - 11:30 or 18:00 - 20:00\n"
     ]
    }
   ],
   "source": [
    "#Display the answer\n",
    "\n",
    "plt.plot(Hours, Quantity_by_hour, 'c')\n",
    "plt.xticks(range(0,24))\n",
    "plt.grid()\n",
    "plt.show()\n",
    "\n",
    "print(\"Answer: 10:00 - 11:30 or 18:00 - 20:00\")"
   ]
  },
  {
   "cell_type": "markdown",
   "id": "differential-praise",
   "metadata": {},
   "source": [
    "Hmmmm... But what if we don't want to maximize the amount of prices? What about we are interested in maximizing only the final profit?"
   ]
  },
  {
   "cell_type": "code",
   "execution_count": 17,
   "id": "bibliographic-farmer",
   "metadata": {},
   "outputs": [
    {
     "data": {
      "image/png": "[encoded data removed]",
      "text/plain": [
       "<Figure size 432x288 with 1 Axes>"
      ]
     },
     "metadata": {
      "needs_background": "light"
     },
     "output_type": "display_data"
    },
    {
     "name": "stdout",
     "output_type": "stream",
     "text": [
      "Answer: 11:00 - 12:00 or 19:00\n"
     ]
    }
   ],
   "source": [
    "#To answer this question we will repeat the steps from earlier and we will just sum the 'Total'\n",
    "\n",
    "Quantity_by_hour = data.groupby(by=[\"Numerical Hour\"]).sum()['Total']\n",
    "\n",
    "plt.plot(Hours, Quantity_by_hour)\n",
    "plt.xticks(range(0,24))\n",
    "plt.grid()\n",
    "plt.show()\n",
    "\n",
    "print(\"Answer: 11:00 - 12:00 or 19:00\")"
   ]
  },
  {
   "cell_type": "markdown",
   "id": "western-grade",
   "metadata": {},
   "source": [
    "### Q4: What products are most often sold together?"
   ]
  },
  {
   "cell_type": "code",
   "execution_count": 18,
   "id": "blank-asset",
   "metadata": {},
   "outputs": [],
   "source": [
    "Products = [product for product,df in data.groupby(by=[\"Product\"])]"
   ]
  },
  {
   "cell_type": "code",
   "execution_count": 19,
   "id": "weird-trinity",
   "metadata": {},
   "outputs": [
    {
     "data": {
      "text/html": [
       "<div>\n",
       "<style scoped>\n",
       "    .dataframe tbody tr th:only-of-type {\n",
       "        vertical-align: middle;\n",
       "    }\n",
       "\n",
       "    .dataframe tbody tr th {\n",
       "        vertical-align: top;\n",
       "    }\n",
       "\n",
       "    .dataframe thead th {\n",
       "        text-align: right;\n",
       "    }\n",
       "</style>\n",
       "<table border=\"1\" class=\"dataframe\">\n",
       "  <thead>\n",
       "    <tr style=\"text-align: right;\">\n",
       "      <th></th>\n",
       "      <th>Product</th>\n",
       "    </tr>\n",
       "    <tr>\n",
       "      <th>Order ID</th>\n",
       "      <th></th>\n",
       "    </tr>\n",
       "  </thead>\n",
       "  <tbody>\n",
       "    <tr>\n",
       "      <th>141275</th>\n",
       "      <td>USB-C Charging Cable, Wired Headphones</td>\n",
       "    </tr>\n",
       "    <tr>\n",
       "      <th>141290</th>\n",
       "      <td>Apple Airpods Headphones, AA Batteries (4-pack)</td>\n",
       "    </tr>\n",
       "    <tr>\n",
       "      <th>141365</th>\n",
       "      <td>Vareebadd Phone, Wired Headphones</td>\n",
       "    </tr>\n",
       "    <tr>\n",
       "      <th>141384</th>\n",
       "      <td>Google Phone, USB-C Charging Cable</td>\n",
       "    </tr>\n",
       "    <tr>\n",
       "      <th>141450</th>\n",
       "      <td>Google Phone, Bose SoundSport Headphones</td>\n",
       "    </tr>\n",
       "    <tr>\n",
       "      <th>141457</th>\n",
       "      <td>iPhone, Apple Airpods Headphones</td>\n",
       "    </tr>\n",
       "    <tr>\n",
       "      <th>141478</th>\n",
       "      <td>Google Phone, Apple Airpods Headphones</td>\n",
       "    </tr>\n",
       "    <tr>\n",
       "      <th>141550</th>\n",
       "      <td>iPhone, Apple Airpods Headphones, Wired Headph...</td>\n",
       "    </tr>\n",
       "    <tr>\n",
       "      <th>141587</th>\n",
       "      <td>USB-C Charging Cable, Apple Airpods Headphones</td>\n",
       "    </tr>\n",
       "    <tr>\n",
       "      <th>141645</th>\n",
       "      <td>Lightning Charging Cable, Wired Headphones</td>\n",
       "    </tr>\n",
       "  </tbody>\n",
       "</table>\n",
       "</div>"
      ],
      "text/plain": [
       "                                                    Product\n",
       "Order ID                                                   \n",
       "141275               USB-C Charging Cable, Wired Headphones\n",
       "141290      Apple Airpods Headphones, AA Batteries (4-pack)\n",
       "141365                    Vareebadd Phone, Wired Headphones\n",
       "141384                   Google Phone, USB-C Charging Cable\n",
       "141450             Google Phone, Bose SoundSport Headphones\n",
       "141457                     iPhone, Apple Airpods Headphones\n",
       "141478               Google Phone, Apple Airpods Headphones\n",
       "141550    iPhone, Apple Airpods Headphones, Wired Headph...\n",
       "141587       USB-C Charging Cable, Apple Airpods Headphones\n",
       "141645           Lightning Charging Cable, Wired Headphones"
      ]
     },
     "execution_count": 19,
     "metadata": {},
     "output_type": "execute_result"
    }
   ],
   "source": [
    "#We group the data in such a way that all products will group to the list per 'Order ID'\n",
    "\n",
    "Product_by_order_df = data.groupby(by=[\"Order ID\"])[\"Product\"].apply(list).to_frame()\n",
    "Product_by_order_df = Product_by_order_df[Product_by_order_df[\"Product\"].str.len() >= 2]\n",
    "Product_by_order_df[\"Product\"] = Product_by_order_df[\"Product\"].str.join(', ')\n",
    "Product_by_order_df.head(10)"
   ]
  },
  {
   "cell_type": "code",
   "execution_count": 20,
   "id": "medical-tooth",
   "metadata": {},
   "outputs": [
    {
     "name": "stdout",
     "output_type": "stream",
     "text": [
      "Answer:\n"
     ]
    },
    {
     "data": {
      "text/plain": [
       "Product\n",
       "iPhone, Lightning Charging Cable                              882\n",
       "Google Phone, USB-C Charging Cable                            856\n",
       "iPhone, Wired Headphones                                      361\n",
       "Vareebadd Phone, USB-C Charging Cable                         312\n",
       "Google Phone, Wired Headphones                                303\n",
       "iPhone, Apple Airpods Headphones                              286\n",
       "Google Phone, Bose SoundSport Headphones                      161\n",
       "Vareebadd Phone, Wired Headphones                             104\n",
       "Google Phone, USB-C Charging Cable, Wired Headphones           77\n",
       "Vareebadd Phone, Bose SoundSport Headphones                    60\n",
       "iPhone, Lightning Charging Cable, Wired Headphones             56\n",
       "Lightning Charging Cable, USB-C Charging Cable                 55\n",
       "Lightning Charging Cable, AA Batteries (4-pack)                52\n",
       "AA Batteries (4-pack), Lightning Charging Cable                51\n",
       "Lightning Charging Cable, Lightning Charging Cable             51\n",
       "AAA Batteries (4-pack), USB-C Charging Cable                   50\n",
       "AA Batteries (4-pack), AAA Batteries (4-pack)                  48\n",
       "AAA Batteries (4-pack), AAA Batteries (4-pack)                 48\n",
       "USB-C Charging Cable, USB-C Charging Cable                     46\n",
       "Apple Airpods Headphones, AAA Batteries (4-pack)               45\n",
       "AA Batteries (4-pack), Wired Headphones                        44\n",
       "AAA Batteries (4-pack), Lightning Charging Cable               44\n",
       "AAA Batteries (4-pack), Wired Headphones                       43\n",
       "Wired Headphones, AAA Batteries (4-pack)                       43\n",
       "iPhone, Lightning Charging Cable, Apple Airpods Headphones     43\n",
       "Name: Product, dtype: int64"
      ]
     },
     "execution_count": 20,
     "metadata": {},
     "output_type": "execute_result"
    }
   ],
   "source": [
    "#Now we can present the 25 best-selling combinations, which leads us to the final answer.\n",
    "\n",
    "print(\"Answer:\")\n",
    "Product_by_order_df.groupby(by=[\"Product\"])[\"Product\"].count().nlargest(25)"
   ]
  },
  {
   "cell_type": "markdown",
   "id": "coated-verification",
   "metadata": {},
   "source": [
    "### Q5: What product sold the most? Why do you think it sold the most?"
   ]
  },
  {
   "cell_type": "code",
   "execution_count": 21,
   "id": "cooked-denmark",
   "metadata": {},
   "outputs": [],
   "source": [
    "#Sum the 'Quantity Ordered' by 'Product'\n",
    "\n",
    "sum_product = data.groupby(by=['Product'])['Quantity Ordered'].sum()\n",
    "Products = [product for product,df in data.groupby(by=[\"Product\"])]"
   ]
  },
  {
   "cell_type": "code",
   "execution_count": 22,
   "id": "national-garden",
   "metadata": {},
   "outputs": [
    {
     "data": {
      "image/png": "[encoded data removed]",
      "text/plain": [
       "<Figure size 432x288 with 1 Axes>"
      ]
     },
     "metadata": {
      "needs_background": "light"
     },
     "output_type": "display_data"
    }
   ],
   "source": [
    "#Display the answer for the first part of the question\n",
    "\n",
    "plt.bar(Products, sum_product,color='coral' , edgecolor='red')\n",
    "plt.xticks(Products,rotation='vertical')\n",
    "plt.ylabel('Product')\n",
    "plt.xlabel('Sum of products')\n",
    "plt.show()"
   ]
  },
  {
   "cell_type": "code",
   "execution_count": 23,
   "id": "irish-ending",
   "metadata": {},
   "outputs": [
    {
     "name": "stderr",
     "output_type": "stream",
     "text": [
      "C:\\Users\\User\\anaconda3\\envs\\tt\\lib\\site-packages\\ipykernel_launcher.py:14: UserWarning: FixedFormatter should only be used together with FixedLocator\n",
      "  \n"
     ]
    },
    {
     "data": {
      "image/png": "[encoded data removed]",
      "text/plain": [
       "<Figure size 432x288 with 2 Axes>"
      ]
     },
     "metadata": {
      "needs_background": "light"
     },
     "output_type": "display_data"
    },
    {
     "name": "stdout",
     "output_type": "stream",
     "text": [
      "Answer: AAA Batteries (4-pack) is the best-selling product - maybe people buy it more often (compared to iPhones that buy once in a while), maybe because of the price (There seems to be an inverse correlation between price and quantity of orders).\n"
     ]
    }
   ],
   "source": [
    "#To answer the second part of the question I guessed that the amount of sales stemmed from the price, let's check it\n",
    "\n",
    "prices = data.groupby('Product').mean()['Price Each']\n",
    "\n",
    "fig, ax1 = plt.subplots()\n",
    "\n",
    "ax2 = ax1.twinx()\n",
    "ax1.bar(Products, sum_product, color='silver')\n",
    "ax2.plot(Products, prices, color='orange')\n",
    "\n",
    "ax1.set_xlabel('Product Name')\n",
    "ax1.set_ylabel('Sum of orders', color='gray')\n",
    "ax2.set_ylabel('Price', color='orange')\n",
    "ax1.set_xticklabels(Products, rotation='vertical', size=8)\n",
    "\n",
    "plt.show()\n",
    "print('Answer: AAA Batteries (4-pack) is the best-selling product - maybe people buy it more often (compared to iPhones that buy once in a while), maybe because of the price (There seems to be an inverse correlation between price and quantity of orders).')"
   ]
  }
 ],
 "metadata": {
  "kernelspec": {
   "display_name": "Python 3",
   "language": "python",
   "name": "python3"
  },
  "language_info": {
   "codemirror_mode": {
    "name": "ipython",
    "version": 3
   },
   "file_extension": ".py",
   "mimetype": "text/x-python",
   "name": "python",
   "nbconvert_exporter": "python",
   "pygments_lexer": "ipython3",
   "version": "3.7.9"
  }
 },
 "nbformat": 4,
 "nbformat_minor": 5
}
