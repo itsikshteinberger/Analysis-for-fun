{
 "cells": [
  {
   "cell_type": "markdown",
   "id": "decreased-unemployment",
   "metadata": {},
   "source": [
    "# Disney data analysis\n",
    "\n",
    "#### Given a disney movies data, answer the following questions:\n",
    "* In what month do the most movies come out?\n",
    "* How long does it take to watch all the Disney movies in a row?\n",
    "* Which production company produced the most movies?\n",
    "* Is there any correlation between the amount of the budget and the year of release?\n",
    "\n",
    "First, We import all the necessary libraries:"
   ]
  },
  {
   "cell_type": "code",
   "execution_count": 1,
   "id": "necessary-presentation",
   "metadata": {},
   "outputs": [],
   "source": [
    "import json\n",
    "import matplotlib.pyplot as plt\n",
    "import pandas as pd\n",
    "import numpy as np"
   ]
  },
  {
   "cell_type": "markdown",
   "id": "accepting-landscape",
   "metadata": {},
   "source": [
    "This function is supposed to load the Json Data: "
   ]
  },
  {
   "cell_type": "code",
   "execution_count": 2,
   "id": "roman-daily",
   "metadata": {},
   "outputs": [],
   "source": [
    "def load_data(title):\n",
    "    with open(title, encoding=\"utf-8\") as f:\n",
    "        return json.load(f)"
   ]
  },
  {
   "cell_type": "code",
   "execution_count": 3,
   "id": "engaging-subscription",
   "metadata": {},
   "outputs": [],
   "source": [
    "movies = load_data(\"disney_data.json\") # load the data"
   ]
  },
  {
   "cell_type": "markdown",
   "id": "located-transsexual",
   "metadata": {},
   "source": [
    "Excellent, we can get started!\n",
    "### Q1: In what month do the most movies come out?"
   ]
  },
  {
   "cell_type": "code",
   "execution_count": 4,
   "id": "threaded-heating",
   "metadata": {},
   "outputs": [],
   "source": [
    "month_counter = [0] * 12\n",
    "\n",
    "for movie in movies: \n",
    "    if 'Release Date (date-time)' in movie:\n",
    "        for date in movie['Release Date (date-time)']:\n",
    "            month = date.split('-')[1]\n",
    "            if month != 'None':\n",
    "                month_counter[int(month)-1] += 1 #Increase the month index by 1"
   ]
  },
  {
   "cell_type": "code",
   "execution_count": 5,
   "id": "departmental-stereo",
   "metadata": {},
   "outputs": [
    {
     "data": {
      "image/png": "[encoded data removed]",
      "text/plain": [
       "<Figure size 432x288 with 1 Axes>"
      ]
     },
     "metadata": {
      "needs_background": "light"
     },
     "output_type": "display_data"
    },
    {
     "name": "stdout",
     "output_type": "stream",
     "text": [
      "Answer: June and November\n"
     ]
    }
   ],
   "source": [
    "plt.bar(range(1,13), month_counter, color='lavender', edgecolor='black')\n",
    "plt.xticks(range(1,13))\n",
    "plt.show()\n",
    "\n",
    "print(\"Answer: June and November\")"
   ]
  },
  {
   "cell_type": "markdown",
   "id": "specified-thermal",
   "metadata": {},
   "source": [
    "### Q2: How long does it take to watch all the Disney movies in a row?"
   ]
  },
  {
   "cell_type": "code",
   "execution_count": 6,
   "id": "vertical-latest",
   "metadata": {},
   "outputs": [],
   "source": [
    "minutes_sum = 0 \n",
    "for movie in movies:\n",
    "    if 'Running time (Minutes)' in movie:\n",
    "        minutes_sum += movie['Running time (Minutes)'] #Add the minute of this movie to the total minutes"
   ]
  },
  {
   "cell_type": "code",
   "execution_count": 7,
   "id": "religious-gross",
   "metadata": {},
   "outputs": [],
   "source": [
    "#Covert the total minutes to Minutes - Hourse - Minutes Format\n",
    "days = int(minutes_sum / (24*60))\n",
    "hours = int((minutes_sum % (24*60))/60)\n",
    "minutes = minutes_sum % 60"
   ]
  },
  {
   "cell_type": "code",
   "execution_count": 8,
   "id": "urban-contents",
   "metadata": {},
   "outputs": [
    {
     "name": "stdout",
     "output_type": "stream",
     "text": [
      "Answer: 29 days, 16 hours and 58 minutes \n",
      "Have Fun XD\n"
     ]
    }
   ],
   "source": [
    "print(\"Answer: {} days, {} hours and {} minutes \\nHave Fun XD\".format(days, hours, minutes))"
   ]
  },
  {
   "cell_type": "markdown",
   "id": "earlier-application",
   "metadata": {},
   "source": [
    "### Q3: Which production company produced the most movies?"
   ]
  },
  {
   "cell_type": "code",
   "execution_count": 9,
   "id": "successful-walnut",
   "metadata": {},
   "outputs": [],
   "source": [
    "df = pd.read_csv('movie_data.csv')[['Title','Production Company']]"
   ]
  },
  {
   "cell_type": "code",
   "execution_count": 10,
   "id": "starting-concentrate",
   "metadata": {},
   "outputs": [],
   "source": [
    "Production_Company_Counter = {}\n",
    "\n",
    "for Production_Company in df['Production Company']:\n",
    "    if not pd.isna(Production_Company):\n",
    "        # Convert string to array \n",
    "        Production_Company = Production_Company.replace('[','')\n",
    "        Production_Company = Production_Company.replace(']','')\n",
    "        Production_Company = Production_Company.replace(\"'\",'')\n",
    "        Production_Company = Production_Company.split(',')\n",
    "        for pc in Production_Company:\n",
    "            pc = pc.strip()\n",
    "            if pc != 'Inc.':\n",
    "                if pc in Production_Company_Counter:\n",
    "                    Production_Company_Counter[pc] += 1\n",
    "                else:\n",
    "                    Production_Company_Counter[pc] = 1\n",
    "            "
   ]
  },
  {
   "cell_type": "markdown",
   "id": "municipal-authorization",
   "metadata": {},
   "source": [
    "Let's look at the distribution of the movies per company:"
   ]
  },
  {
   "cell_type": "code",
   "execution_count": 11,
   "id": "removed-myanmar",
   "metadata": {},
   "outputs": [
    {
     "data": {
      "image/png": "[encoded data removed]",
      "text/plain": [
       "<Figure size 432x288 with 1 Axes>"
      ]
     },
     "metadata": {
      "needs_background": "light"
     },
     "output_type": "display_data"
    }
   ],
   "source": [
    "plt.bar(range(0,len(Production_Company_Counter)), list(Production_Company_Counter.values()), color='gold')\n",
    "plt.yticks(range(0,len(Production_Company_Counter),15))\n",
    "plt.xticks([])\n",
    "plt.grid()\n",
    "plt.show()"
   ]
  },
  {
   "cell_type": "markdown",
   "id": "final-indianapolis",
   "metadata": {},
   "source": [
    "It seems unnecessary to show them all in a pie chart, so we will take down all the companies that have not released more than 15 films."
   ]
  },
  {
   "cell_type": "code",
   "execution_count": 12,
   "id": "elect-brazilian",
   "metadata": {},
   "outputs": [],
   "source": [
    "Clean_Production_Company_Counter = {}\n",
    "for key,value in Production_Company_Counter.items():\n",
    "    if value >= 15:\n",
    "        Clean_Production_Company_Counter[key] = value"
   ]
  },
  {
   "cell_type": "code",
   "execution_count": 13,
   "id": "local-spring",
   "metadata": {},
   "outputs": [],
   "source": [
    "companies = list(Clean_Production_Company_Counter.keys())\n",
    "movies_number = list(Clean_Production_Company_Counter.values()) "
   ]
  },
  {
   "cell_type": "code",
   "execution_count": 14,
   "id": "bizarre-payroll",
   "metadata": {},
   "outputs": [
    {
     "data": {
      "image/png": "[encoded data removed]",
      "text/plain": [
       "<Figure size 432x288 with 1 Axes>"
      ]
     },
     "metadata": {},
     "output_type": "display_data"
    },
    {
     "name": "stdout",
     "output_type": "stream",
     "text": [
      "Answer: 'Walt Disney Pictures' by far.\n"
     ]
    }
   ],
   "source": [
    "explode = (0, 0.1, 0, 0)\n",
    "fig1, ax1 = plt.subplots()\n",
    "ax1.pie(movies_number, explode=explode, labels=companies, autopct='%1.1f%%', shadow=True, startangle=90)\n",
    "ax1.axis('equal') \n",
    "\n",
    "plt.show()\n",
    "\n",
    "print(\"Answer: 'Walt Disney Pictures' by far.\")"
   ]
  },
  {
   "cell_type": "markdown",
   "id": "southeast-experience",
   "metadata": {},
   "source": [
    "### Q4: Is there any correlation between the amount of the budget and the year of release?"
   ]
  },
  {
   "cell_type": "code",
   "execution_count": 15,
   "id": "sealed-automation",
   "metadata": {},
   "outputs": [],
   "source": [
    "Budget_Sum_Per_Year = len(range(1937,2021 + 1)) * [0]\n",
    "Movies_Per_Year = len(range(1937,2021 + 1)) * [0]"
   ]
  },
  {
   "cell_type": "code",
   "execution_count": 16,
   "id": "interested-comment",
   "metadata": {},
   "outputs": [],
   "source": [
    "for movie in movies:\n",
    "    if 'Release Date (date-time)' in movie and 'Budget' in movie:\n",
    "        year = movie['Release Date (date-time)'][0].split('-')[0]\n",
    "        if year != 'None':\n",
    "            Movies_Per_Year[int(year)-1937] += 1\n",
    "            if isinstance(movie['Budget'],list):\n",
    "                Budget_Sum_Per_Year[int(year)- 1937] +=  sum(movie['Budget']) #Add sum of movies budget to total by year index\n",
    "            else:\n",
    "                Budget_Sum_Per_Year[int(year)- 1937] +=  movie['Budget'] #Add movie budget to total by year index\n",
    "            "
   ]
  },
  {
   "cell_type": "code",
   "execution_count": 17,
   "id": "promising-finland",
   "metadata": {},
   "outputs": [
    {
     "name": "stderr",
     "output_type": "stream",
     "text": [
      "C:\\Users\\User\\anaconda3\\envs\\tt\\lib\\site-packages\\ipykernel_launcher.py:10: UserWarning: FixedFormatter should only be used together with FixedLocator\n",
      "  # Remove the CWD from sys.path while we load stuff.\n"
     ]
    },
    {
     "data": {
      "image/png": "[encoded data removed]",
      "text/plain": [
       "<Figure size 432x288 with 2 Axes>"
      ]
     },
     "metadata": {
      "needs_background": "light"
     },
     "output_type": "display_data"
    }
   ],
   "source": [
    "#Now we are going to plot two graphs: \n",
    "#One in light purple for the number of films per year and one in green for the amount of budget\n",
    "\n",
    "fig, ax1 = plt.subplots()\n",
    "\n",
    "ax2 = ax1.twinx()\n",
    "ax1.bar(range(1937,2021 + 1), Movies_Per_Year, color='thistle')\n",
    "ax2.plot(range(1937,2021 + 1), Budget_Sum_Per_Year, color='lime')\n",
    "\n",
    "ax1.set_xlabel('Years')\n",
    "ax1.set_ylabel('Movies per year', color='thistle')\n",
    "ax2.set_ylabel('Budget', color='lime')\n",
    "ax1.set_xticklabels(range(1937,2021 + 1), rotation='vertical', size=8)\n",
    "\n",
    "plt.show()"
   ]
  },
  {
   "cell_type": "markdown",
   "id": "concerned-crowd",
   "metadata": {},
   "source": [
    "An interesting graph, several conclusions can be drawn:\n",
    "* It seems that the more movies there are, the more budget there is (obviously).\n",
    "* Until 1943 the budget seemed to remain more or less the same no matter how many films were made.\n",
    "* It seems that the rate of increase in the budget is lower than the rate of increase in movies.\n",
    "\n",
    "The third conclusion is that the average budget per film has been rising- we are going to check this with the help of another graph."
   ]
  },
  {
   "cell_type": "code",
   "execution_count": 18,
   "id": "republican-subscriber",
   "metadata": {},
   "outputs": [
    {
     "name": "stderr",
     "output_type": "stream",
     "text": [
      "C:\\Users\\User\\anaconda3\\envs\\tt\\lib\\site-packages\\ipykernel_launcher.py:1: RuntimeWarning: invalid value encountered in true_divide\n",
      "  \"\"\"Entry point for launching an IPython kernel.\n"
     ]
    }
   ],
   "source": [
    "avg_budget = list(np.divide(Budget_Sum_Per_Year, Movies_Per_Year)) #❤️!!! 0/0 = Nan\n",
    "avg_budget = [i if i > 0 else 0 for i in avg_budget] #Replace Nan with 0"
   ]
  },
  {
   "cell_type": "code",
   "execution_count": 20,
   "id": "complimentary-quest",
   "metadata": {},
   "outputs": [
    {
     "data": {
      "image/png": "[encoded data removed]",
      "text/plain": [
       "<Figure size 432x288 with 1 Axes>"
      ]
     },
     "metadata": {
      "needs_background": "light"
     },
     "output_type": "display_data"
    }
   ],
   "source": [
    "plt.bar(range(1937,2021 + 1), avg_budget, color='indigo')\n",
    "plt.xticks(range(1937,2021 + 1,7))\n",
    "plt.title(\"Average budget per year\")\n",
    "\n",
    "plt.show()"
   ]
  },
  {
   "cell_type": "markdown",
   "id": "statutory-doctrine",
   "metadata": {},
   "source": [
    "Now we can say for sure: since 1995 the average budget per movie has increased significantly (probably because Disney has established itself as a big company with a big budget). <br/>\n",
    "## Done!"
   ]
  },
  {
   "cell_type": "markdown",
   "id": "temporal-belize",
   "metadata": {},
   "source": [
    "![](https://media3.giphy.com/media/8n8bWePc8cQs8/200.webp?cid=ecf05e47vdgp871wzrsy6msz1yhnbpsnmgtjruktizjfmhnl&rid=200.webp&ct=g)"
   ]
  }
 ],
 "metadata": {
  "kernelspec": {
   "display_name": "Python 3",
   "language": "python",
   "name": "python3"
  },
  "language_info": {
   "codemirror_mode": {
    "name": "ipython",
    "version": 3
   },
   "file_extension": ".py",
   "mimetype": "text/x-python",
   "name": "python",
   "nbconvert_exporter": "python",
   "pygments_lexer": "ipython3",
   "version": "3.7.9"
  }
 },
 "nbformat": 4,
 "nbformat_minor": 5
}
